{
 "cells": [
  {
   "cell_type": "code",
   "execution_count": 1,
   "id": "410c2940",
   "metadata": {},
   "outputs": [],
   "source": [
    "import pandas as pd\n",
    "import numpy as np\n",
    "import matplotlib.pyplot as plt\n",
    "from sklearn.linear_model import LinearRegression\n",
    "from sklearn import datasets\n",
    "import seaborn as sns\n",
    "import statistics"
   ]
  },
  {
   "cell_type": "code",
   "execution_count": 2,
   "id": "72325e60",
   "metadata": {},
   "outputs": [],
   "source": [
    "import os\n",
    "os.chdir('downloads')"
   ]
  },
  {
   "cell_type": "code",
   "execution_count": 3,
   "id": "6b8ee0fe",
   "metadata": {},
   "outputs": [
    {
     "data": {
      "text/plain": [
       "'C:\\\\Users\\\\petri\\\\downloads'"
      ]
     },
     "execution_count": 3,
     "metadata": {},
     "output_type": "execute_result"
    }
   ],
   "source": [
    "os.getcwd()"
   ]
  },
  {
   "cell_type": "code",
   "execution_count": 4,
   "id": "f5a66943",
   "metadata": {},
   "outputs": [
    {
     "data": {
      "text/html": [
       "<div>\n",
       "<style scoped>\n",
       "    .dataframe tbody tr th:only-of-type {\n",
       "        vertical-align: middle;\n",
       "    }\n",
       "\n",
       "    .dataframe tbody tr th {\n",
       "        vertical-align: top;\n",
       "    }\n",
       "\n",
       "    .dataframe thead th {\n",
       "        text-align: right;\n",
       "    }\n",
       "</style>\n",
       "<table border=\"1\" class=\"dataframe\">\n",
       "  <thead>\n",
       "    <tr style=\"text-align: right;\">\n",
       "      <th></th>\n",
       "      <th>Area Code</th>\n",
       "      <th>Area</th>\n",
       "      <th>Item Code</th>\n",
       "      <th>Item</th>\n",
       "      <th>Element Code</th>\n",
       "      <th>Element</th>\n",
       "      <th>Unit</th>\n",
       "      <th>Y2014</th>\n",
       "      <th>Y2015</th>\n",
       "      <th>Y2016</th>\n",
       "      <th>Y2017</th>\n",
       "      <th>Y2018</th>\n",
       "    </tr>\n",
       "  </thead>\n",
       "  <tbody>\n",
       "    <tr>\n",
       "      <th>0</th>\n",
       "      <td>4</td>\n",
       "      <td>Algeria</td>\n",
       "      <td>2501</td>\n",
       "      <td>Population</td>\n",
       "      <td>511</td>\n",
       "      <td>Total Population - Both sexes</td>\n",
       "      <td>1000 persons</td>\n",
       "      <td>38924.00</td>\n",
       "      <td>39728.00</td>\n",
       "      <td>40551.00</td>\n",
       "      <td>41389.00</td>\n",
       "      <td>42228.00</td>\n",
       "    </tr>\n",
       "    <tr>\n",
       "      <th>1</th>\n",
       "      <td>4</td>\n",
       "      <td>Algeria</td>\n",
       "      <td>2501</td>\n",
       "      <td>Population</td>\n",
       "      <td>5301</td>\n",
       "      <td>Domestic supply quantity</td>\n",
       "      <td>1000 tonnes</td>\n",
       "      <td>0.00</td>\n",
       "      <td>0.00</td>\n",
       "      <td>0.00</td>\n",
       "      <td>0.00</td>\n",
       "      <td>0.00</td>\n",
       "    </tr>\n",
       "    <tr>\n",
       "      <th>2</th>\n",
       "      <td>4</td>\n",
       "      <td>Algeria</td>\n",
       "      <td>2901</td>\n",
       "      <td>Grand Total</td>\n",
       "      <td>664</td>\n",
       "      <td>Food supply (kcal/capita/day)</td>\n",
       "      <td>kcal/capita/day</td>\n",
       "      <td>3377.00</td>\n",
       "      <td>3379.00</td>\n",
       "      <td>3372.00</td>\n",
       "      <td>3341.00</td>\n",
       "      <td>3322.00</td>\n",
       "    </tr>\n",
       "    <tr>\n",
       "      <th>3</th>\n",
       "      <td>4</td>\n",
       "      <td>Algeria</td>\n",
       "      <td>2901</td>\n",
       "      <td>Grand Total</td>\n",
       "      <td>674</td>\n",
       "      <td>Protein supply quantity (g/capita/day)</td>\n",
       "      <td>g/capita/day</td>\n",
       "      <td>94.90</td>\n",
       "      <td>94.35</td>\n",
       "      <td>94.72</td>\n",
       "      <td>92.82</td>\n",
       "      <td>91.83</td>\n",
       "    </tr>\n",
       "    <tr>\n",
       "      <th>4</th>\n",
       "      <td>4</td>\n",
       "      <td>Algeria</td>\n",
       "      <td>2901</td>\n",
       "      <td>Grand Total</td>\n",
       "      <td>684</td>\n",
       "      <td>Fat supply quantity (g/capita/day)</td>\n",
       "      <td>g/capita/day</td>\n",
       "      <td>80.06</td>\n",
       "      <td>79.36</td>\n",
       "      <td>77.40</td>\n",
       "      <td>80.19</td>\n",
       "      <td>77.28</td>\n",
       "    </tr>\n",
       "  </tbody>\n",
       "</table>\n",
       "</div>"
      ],
      "text/plain": [
       "   Area Code     Area  Item Code         Item  Element Code  \\\n",
       "0          4  Algeria       2501   Population           511   \n",
       "1          4  Algeria       2501   Population          5301   \n",
       "2          4  Algeria       2901  Grand Total           664   \n",
       "3          4  Algeria       2901  Grand Total           674   \n",
       "4          4  Algeria       2901  Grand Total           684   \n",
       "\n",
       "                                  Element             Unit     Y2014  \\\n",
       "0           Total Population - Both sexes     1000 persons  38924.00   \n",
       "1                Domestic supply quantity      1000 tonnes      0.00   \n",
       "2           Food supply (kcal/capita/day)  kcal/capita/day   3377.00   \n",
       "3  Protein supply quantity (g/capita/day)     g/capita/day     94.90   \n",
       "4      Fat supply quantity (g/capita/day)     g/capita/day     80.06   \n",
       "\n",
       "      Y2015     Y2016     Y2017     Y2018  \n",
       "0  39728.00  40551.00  41389.00  42228.00  \n",
       "1      0.00      0.00      0.00      0.00  \n",
       "2   3379.00   3372.00   3341.00   3322.00  \n",
       "3     94.35     94.72     92.82     91.83  \n",
       "4     79.36     77.40     80.19     77.28  "
      ]
     },
     "execution_count": 4,
     "metadata": {},
     "output_type": "execute_result"
    }
   ],
   "source": [
    "df = pd.read_csv('FoodBalanceSheets_E_Africa_NOFLAG.csv', encoding=\"latin-1\")\n",
    "df.head()"
   ]
  },
  {
   "cell_type": "code",
   "execution_count": 5,
   "id": "e63db795",
   "metadata": {},
   "outputs": [
    {
     "data": {
      "text/plain": [
       "(60943, 12)"
      ]
     },
     "execution_count": 5,
     "metadata": {},
     "output_type": "execute_result"
    }
   ],
   "source": [
    "df.shape"
   ]
  },
  {
   "cell_type": "code",
   "execution_count": 32,
   "id": "a75fe4f4",
   "metadata": {},
   "outputs": [
    {
     "name": "stdout",
     "output_type": "stream",
     "text": [
      "Area\n",
      "Nigeria                        190873.00\n",
      "Ethiopia                       106400.00\n",
      "Egypt                           96443.00\n",
      "South Africa                    57010.00\n",
      "United Republic of Tanzania     54660.00\n",
      "Mauritania                      51864.00\n",
      "Kenya                           50221.00\n",
      "Algeria                         41389.00\n",
      "Uganda                          41167.00\n",
      "Sudan                           40813.00\n",
      "Morocco                         38348.00\n",
      "Angola                          29817.00\n",
      "Ghana                           29121.00\n",
      "Mozambique                      28649.00\n",
      "Madagascar                      25571.00\n",
      "Cameroon                        24566.00\n",
      "Côte d'Ivoire                   24437.00\n",
      "Niger                           21602.00\n",
      "Burkina Faso                    19193.00\n",
      "Mali                            18512.00\n",
      "Malawi                          17670.00\n",
      "Zambia                          16854.00\n",
      "Senegal                         15419.00\n",
      "Chad                            15017.00\n",
      "Zimbabwe                        14237.00\n",
      "Guinea                          12068.00\n",
      "Rwanda                          11981.00\n",
      "Tunisia                         11433.00\n",
      "Benin                           11175.00\n",
      "Togo                             7698.00\n",
      "Sierra Leone                     7488.00\n",
      "Eswatini                         5553.00\n",
      "Congo                            5111.00\n",
      "Liberia                          4702.00\n",
      "Central African Republic         4596.00\n",
      "Mauritius                        3713.00\n",
      "Djibouti                         2664.00\n",
      "Gabon                            2640.00\n",
      "Gambia                           2544.00\n",
      "Cabo Verde                       2530.00\n",
      "Lesotho                          2475.00\n",
      "Namibia                          2465.00\n",
      "Sao Tome and Principe            2407.00\n",
      "Botswana                         2341.00\n",
      "Guinea-Bissau                    2233.00\n",
      "Seychelles                        204.02\n",
      "Comoros                            16.65\n",
      "Ethiopia PDR                        0.00\n",
      "Sudan (former)                      0.00\n",
      "Name: Y2017, dtype: float64\n"
     ]
    }
   ],
   "source": [
    "df2 = df.groupby('Area')['Y2017'].max().sort_values(ascending = False)\n",
    "print (df2)"
   ]
  },
  {
   "cell_type": "code",
   "execution_count": 7,
   "id": "0cf30888",
   "metadata": {},
   "outputs": [
    {
     "data": {
      "text/plain": [
       "Area\n",
       "Ethiopia PDR                0.00\n",
       "Sudan (former)              0.00\n",
       "Comoros                    16.65\n",
       "Seychelles                204.02\n",
       "Guinea-Bissau            2233.00\n",
       "Botswana                 2341.00\n",
       "Sao Tome and Principe    2407.00\n",
       "Name: Y2017, dtype: float64"
      ]
     },
     "execution_count": 7,
     "metadata": {},
     "output_type": "execute_result"
    }
   ],
   "source": [
    "df2.nsmallest(n=7, keep='all')"
   ]
  },
  {
   "cell_type": "code",
   "execution_count": 8,
   "id": "4b1743bd",
   "metadata": {},
   "outputs": [
    {
     "name": "stdout",
     "output_type": "stream",
     "text": [
      "Element\n",
      "Domestic supply quantity                  2088198.10\n",
      "Export Quantity                            182338.80\n",
      "Fat supply quantity (g/capita/day)          10253.84\n",
      "Feed                                       223705.68\n",
      "Food                                      1258888.28\n",
      "Food supply (kcal/capita/day)              454681.00\n",
      "Food supply quantity (kg/capita/yr)         48690.04\n",
      "Import Quantity                            294559.09\n",
      "Losses                                     160614.00\n",
      "Other uses (non-food)                       91645.97\n",
      "Processing                                 292836.00\n",
      "Production                                2030056.89\n",
      "Protein supply quantity (g/capita/day)      11842.45\n",
      "Residuals                                   35500.00\n",
      "Seed                                        24870.14\n",
      "Stock Variation                             54316.91\n",
      "Total Population - Both sexes             1112641.00\n",
      "Tourist consumption                            91.00\n",
      "Name: Y2017, dtype: float64\n"
     ]
    }
   ],
   "source": [
    "#Perform a groupby operation on ‘Element’.  What is the total number of the sum of Processing in 2017?\n",
    "df3 = df.groupby('Element')['Y2017'].sum()\n",
    "print (df3)"
   ]
  },
  {
   "cell_type": "code",
   "execution_count": 9,
   "id": "60b94630",
   "metadata": {},
   "outputs": [
    {
     "name": "stdout",
     "output_type": "stream",
     "text": [
      "Area\n",
      "Algeria                         -81.0\n",
      "Angola                         -250.0\n",
      "Benin                          -125.0\n",
      "Botswana                        -38.0\n",
      "Burkina Faso                   -281.0\n",
      "Cabo Verde                       -7.0\n",
      "Cameroon                       -147.0\n",
      "Central African Republic         -1.0\n",
      "Chad                            -37.0\n",
      "Comoros                           0.0\n",
      "Congo                            -4.0\n",
      "Côte d'Ivoire                  -244.0\n",
      "Djibouti                         -2.0\n",
      "Egypt                         -1582.0\n",
      "Eswatini                       -100.0\n",
      "Ethiopia                       -792.0\n",
      "Ethiopia PDR                      0.0\n",
      "Gabon                           -37.0\n",
      "Gambia                           -2.0\n",
      "Ghana                          -121.0\n",
      "Guinea                         -108.0\n",
      "Guinea-Bissau                    -3.0\n",
      "Kenya                          -186.0\n",
      "Lesotho                          -4.0\n",
      "Liberia                         -19.0\n",
      "Madagascar                     -324.0\n",
      "Malawi                          -50.0\n",
      "Mali                           -600.0\n",
      "Mauritania                       -1.0\n",
      "Mauritius                       -25.0\n",
      "Morocco                        -229.0\n",
      "Mozambique                    -1200.0\n",
      "Namibia                         -35.0\n",
      "Niger                          -682.0\n",
      "Nigeria                        -694.0\n",
      "Rwanda                         -631.0\n",
      "Sao Tome and Principe             0.0\n",
      "Senegal                         -68.0\n",
      "Seychelles                        0.0\n",
      "Sierra Leone                   -180.0\n",
      "South Africa                   -144.0\n",
      "Sudan                          -819.0\n",
      "Sudan (former)                    0.0\n",
      "Togo                            -32.0\n",
      "Tunisia                        -186.0\n",
      "Uganda                         -180.0\n",
      "United Republic of Tanzania    -865.0\n",
      "Zambia                          -42.0\n",
      "Zimbabwe                       -521.0\n",
      "Name: Y2017, dtype: float64\n"
     ]
    }
   ],
   "source": [
    "#\n",
    "df4 = df.groupby('Area')['Y2017'].min()\n",
    "print(df4)"
   ]
  },
  {
   "cell_type": "code",
   "execution_count": 10,
   "id": "39e9240e",
   "metadata": {},
   "outputs": [
    {
     "data": {
      "text/plain": [
       "'e'"
      ]
     },
     "execution_count": 10,
     "metadata": {},
     "output_type": "execute_result"
    }
   ],
   "source": [
    "#What would be the output for?\n",
    "S = [['him', 'sell'], [90, 28, 43]]\n",
    "S[0][1][1]"
   ]
  },
  {
   "cell_type": "code",
   "execution_count": 11,
   "id": "6486755c",
   "metadata": {},
   "outputs": [
    {
     "data": {
      "text/plain": [
       "0.024456819495221795"
      ]
     },
     "execution_count": 11,
     "metadata": {},
     "output_type": "execute_result"
    }
   ],
   "source": [
    "#Which year had the least correlation with ‘Element Code’?\n",
    "df['Element Code'].corr(df['Y2014'])"
   ]
  },
  {
   "cell_type": "code",
   "execution_count": 12,
   "id": "6f68a647",
   "metadata": {},
   "outputs": [
    {
     "data": {
      "text/plain": [
       "0.02388919930163992"
      ]
     },
     "execution_count": 12,
     "metadata": {},
     "output_type": "execute_result"
    }
   ],
   "source": [
    "df['Element Code'].corr(df['Y2015'])"
   ]
  },
  {
   "cell_type": "code",
   "execution_count": 13,
   "id": "4d6ffbbf",
   "metadata": {},
   "outputs": [
    {
     "data": {
      "text/plain": [
       "0.023443997584961428"
      ]
     },
     "execution_count": 13,
     "metadata": {},
     "output_type": "execute_result"
    }
   ],
   "source": [
    "df['Element Code'].corr(df['Y2016'])"
   ]
  },
  {
   "cell_type": "code",
   "execution_count": 14,
   "id": "eaa611d6",
   "metadata": {},
   "outputs": [
    {
     "data": {
      "text/plain": [
       "0.02425400776004572"
      ]
     },
     "execution_count": 14,
     "metadata": {},
     "output_type": "execute_result"
    }
   ],
   "source": [
    "df['Element Code'].corr(df['Y2017'])"
   ]
  },
  {
   "cell_type": "code",
   "execution_count": 22,
   "id": "4ce467b0",
   "metadata": {},
   "outputs": [
    {
     "name": "stdout",
     "output_type": "stream",
     "text": [
      "Item\n",
      "Alcohol, Non-Food        2180.00\n",
      "Alcoholic Beverages     98783.72\n",
      "Animal Products         11811.73\n",
      "Animal fats            200675.72\n",
      "Apples and products     10559.15\n",
      "                         ...    \n",
      "Vegetables, Other      158104.08\n",
      "Vegetal Products       107064.17\n",
      "Wheat and products     234710.51\n",
      "Wine                     4251.81\n",
      "Yams                   203151.78\n",
      "Name: Y2015, Length: 119, dtype: float64\n"
     ]
    }
   ],
   "source": [
    "#What is the total sum of Wine produced in 2015 and 2018 respectively?\n",
    "df5 = df.groupby('Item')['Y2015'].sum()\n",
    "print (df5)"
   ]
  },
  {
   "cell_type": "code",
   "execution_count": 23,
   "id": "2bb5dc90",
   "metadata": {},
   "outputs": [
    {
     "name": "stdout",
     "output_type": "stream",
     "text": [
      "Item\n",
      "Alcohol, Non-Food        2293.00\n",
      "Alcoholic Beverages     97847.27\n",
      "Animal Products         11578.61\n",
      "Animal fats            269648.27\n",
      "Apples and products      9640.51\n",
      "                         ...    \n",
      "Vegetables, Other      163987.21\n",
      "Vegetal Products       107775.39\n",
      "Wheat and products     242645.19\n",
      "Wine                     4039.32\n",
      "Yams                   221272.09\n",
      "Name: Y2018, Length: 119, dtype: float64\n"
     ]
    }
   ],
   "source": [
    "df5 = df.groupby('Item')['Y2018'].sum()\n",
    "print (df5)"
   ]
  },
  {
   "cell_type": "code",
   "execution_count": 26,
   "id": "e32250d7",
   "metadata": {},
   "outputs": [],
   "source": [
    "#If you have the following list\n",
    "\n",
    "#lst = [[35, 'Portugal', 94], [33, 'Argentina', 93], [30 , 'Brazil', 92]]\n",
    "\n",
    "#col = [‘Age’,’Nationality’,’Overall’]\n",
    "\n",
    "#How do you create a pandas DataFrame using this list, to look like the table below?\n"
   ]
  },
  {
   "cell_type": "code",
   "execution_count": 30,
   "id": "1e39188d",
   "metadata": {},
   "outputs": [
    {
     "data": {
      "text/html": [
       "<div>\n",
       "<style scoped>\n",
       "    .dataframe tbody tr th:only-of-type {\n",
       "        vertical-align: middle;\n",
       "    }\n",
       "\n",
       "    .dataframe tbody tr th {\n",
       "        vertical-align: top;\n",
       "    }\n",
       "\n",
       "    .dataframe thead th {\n",
       "        text-align: right;\n",
       "    }\n",
       "</style>\n",
       "<table border=\"1\" class=\"dataframe\">\n",
       "  <thead>\n",
       "    <tr style=\"text-align: right;\">\n",
       "      <th></th>\n",
       "      <th>Age</th>\n",
       "      <th>Nationality</th>\n",
       "      <th>Overall</th>\n",
       "    </tr>\n",
       "  </thead>\n",
       "  <tbody>\n",
       "    <tr>\n",
       "      <th>1</th>\n",
       "      <td>35</td>\n",
       "      <td>Portugal</td>\n",
       "      <td>94</td>\n",
       "    </tr>\n",
       "    <tr>\n",
       "      <th>2</th>\n",
       "      <td>33</td>\n",
       "      <td>Argentina</td>\n",
       "      <td>93</td>\n",
       "    </tr>\n",
       "    <tr>\n",
       "      <th>3</th>\n",
       "      <td>30</td>\n",
       "      <td>Brazil</td>\n",
       "      <td>92</td>\n",
       "    </tr>\n",
       "  </tbody>\n",
       "</table>\n",
       "</div>"
      ],
      "text/plain": [
       "   Age Nationality  Overall\n",
       "1   35    Portugal       94\n",
       "2   33   Argentina       93\n",
       "3   30      Brazil       92"
      ]
     },
     "execution_count": 30,
     "metadata": {},
     "output_type": "execute_result"
    }
   ],
   "source": [
    "pd.DataFrame(lst, columns = col, index = [i for i in range(1,4)])"
   ]
  },
  {
   "cell_type": "code",
   "execution_count": 38,
   "id": "7f7405ce",
   "metadata": {},
   "outputs": [
    {
     "name": "stdout",
     "output_type": "stream",
     "text": [
      "Area Code        134.265576\n",
      "Item Code       2687.176706\n",
      "Element Code    3814.856456\n",
      "Y2014            134.196282\n",
      "Y2015            135.235966\n",
      "Y2016            136.555222\n",
      "Y2017            140.917765\n",
      "Y2018            143.758381\n",
      "dtype: float64\n"
     ]
    },
    {
     "name": "stderr",
     "output_type": "stream",
     "text": [
      "C:\\Users\\petri\\AppData\\Local\\Temp\\ipykernel_31936\\2807316344.py:1: FutureWarning: Dropping of nuisance columns in DataFrame reductions (with 'numeric_only=None') is deprecated; in a future version this will raise TypeError.  Select only valid columns before calling the reduction.\n",
      "  print(df.mean())\n"
     ]
    }
   ],
   "source": [
    "#What is the mean and standard deviation across the whole dataset for the year 2017 to 2 decimal places?\n",
    "print(df.mean())"
   ]
  },
  {
   "cell_type": "code",
   "execution_count": 40,
   "id": "c5c30afb",
   "metadata": {},
   "outputs": [
    {
     "name": "stdout",
     "output_type": "stream",
     "text": [
      "1671.8623590572788\n"
     ]
    }
   ],
   "source": [
    "print(df['Y2017'].std())"
   ]
  },
  {
   "cell_type": "code",
   "execution_count": 44,
   "id": "5b14d3b8",
   "metadata": {},
   "outputs": [
    {
     "name": "stdout",
     "output_type": "stream",
     "text": [
      "                                             Y2014       Y2015       Y2016  \\\n",
      "Element                                                                      \n",
      "Domestic supply quantity                1996716.35  2021493.55  2044842.70   \n",
      "Export Quantity                          150020.64   157614.47   151920.46   \n",
      "Fat supply quantity (g/capita/day)        10225.56    10235.74    10102.77   \n",
      "Feed                                     216927.89   225050.22   228958.65   \n",
      "Food                                    1212332.49  1232361.10  1247022.17   \n",
      "Food supply (kcal/capita/day)            454257.00   453383.00   451810.00   \n",
      "Food supply quantity (kg/capita/yr)       49650.63    49345.13    48985.28   \n",
      "Import Quantity                          274144.48   267018.46   286582.78   \n",
      "Losses                                   153223.00   155439.00   157787.00   \n",
      "Other uses (non-food)                     78718.13    66254.41    69563.68   \n",
      "Processing                               282923.00   287929.00   280631.00   \n",
      "Production                              1931287.75  1947019.39  1943537.15   \n",
      "Protein supply quantity (g/capita/day)    11836.46    11833.95    11779.69   \n",
      "Residuals                                 30149.00    30045.00    37224.00   \n",
      "Seed                                      21922.92    23976.82    23389.20   \n",
      "Stock Variation                           58749.83    34910.99    33140.12   \n",
      "Total Population - Both sexes           1031585.00  1058081.00  1085107.00   \n",
      "Tourist consumption                         416.00      349.00       89.00   \n",
      "\n",
      "                                             Y2017  \n",
      "Element                                             \n",
      "Domestic supply quantity                2088198.10  \n",
      "Export Quantity                          182338.80  \n",
      "Fat supply quantity (g/capita/day)        10253.84  \n",
      "Feed                                     223705.68  \n",
      "Food                                    1258888.28  \n",
      "Food supply (kcal/capita/day)            454681.00  \n",
      "Food supply quantity (kg/capita/yr)       48690.04  \n",
      "Import Quantity                          294559.09  \n",
      "Losses                                   160614.00  \n",
      "Other uses (non-food)                     91645.97  \n",
      "Processing                               292836.00  \n",
      "Production                              2030056.89  \n",
      "Protein supply quantity (g/capita/day)    11842.45  \n",
      "Residuals                                 35500.00  \n",
      "Seed                                      24870.14  \n",
      "Stock Variation                           54316.91  \n",
      "Total Population - Both sexes           1112641.00  \n",
      "Tourist consumption                          91.00  \n"
     ]
    },
    {
     "name": "stderr",
     "output_type": "stream",
     "text": [
      "C:\\Users\\petri\\AppData\\Local\\Temp\\ipykernel_31936\\1827681743.py:1: FutureWarning: Indexing with multiple keys (implicitly converted to a tuple of keys) will be deprecated, use a list instead.\n",
      "  df8 = df.groupby('Element')['Y2014','Y2015','Y2016','Y2017'].sum()\n"
     ]
    }
   ],
   "source": [
    "#Perform a groupby operation on ‘Element’.  What year has the highest sum of Stock Variation?\n",
    "df8 = df.groupby('Element')['Y2014','Y2015','Y2016','Y2017'].sum()\n",
    "print (df8)"
   ]
  },
  {
   "cell_type": "code",
   "execution_count": null,
   "id": "ae615255",
   "metadata": {},
   "outputs": [],
   "source": []
  }
 ],
 "metadata": {
  "kernelspec": {
   "display_name": "Python 3 (ipykernel)",
   "language": "python",
   "name": "python3"
  },
  "language_info": {
   "codemirror_mode": {
    "name": "ipython",
    "version": 3
   },
   "file_extension": ".py",
   "mimetype": "text/x-python",
   "name": "python",
   "nbconvert_exporter": "python",
   "pygments_lexer": "ipython3",
   "version": "3.9.12"
  }
 },
 "nbformat": 4,
 "nbformat_minor": 5
}
